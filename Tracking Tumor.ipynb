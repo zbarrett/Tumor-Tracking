{
 "cells": [
  {
   "cell_type": "code",
   "execution_count": 2,
   "metadata": {},
   "outputs": [],
   "source": [
    "import cv2 # must manually add to anaconda\n",
    "import numpy as np\n",
    "import matplotlib.pyplot as plt\n",
    "from pykalman import KalmanFilter # must manually add to anaconda\n",
    "from PIL import Image\n",
    "import pylab as py\n",
    "import statistics\n",
    "\n",
    "%matplotlib inline"
   ]
  },
  {
   "cell_type": "code",
   "execution_count": 4,
   "metadata": {},
   "outputs": [
    {
     "name": "stdout",
     "output_type": "stream",
     "text": [
      "\t Width:  90.0\n",
      "\t Height:  156.0\n",
      "\t FourCC:  828601953.0\n",
      "\t Framerate:  6.666666666666667\n",
      "\t Number of Frames:  80.0\n"
     ]
    }
   ],
   "source": [
    "# opens video and captures relevant info\n",
    "file = \"tumorCenterMOV.mov\" #NOTE: IF YOU ARE USING A MAC, YOU WILL NEED TO EDIT THIS TO OPEN CORRECT DIRECTORY\n",
    "capture = cv2.VideoCapture(file)\n",
    "\n",
    "print (\"\\t Width: \", capture.get(cv2.CAP_PROP_FRAME_WIDTH))\n",
    "print (\"\\t Height: \",capture.get(cv2.CAP_PROP_FRAME_HEIGHT))\n",
    "print (\"\\t FourCC: \",capture.get(cv2.CAP_PROP_FOURCC))\n",
    "print (\"\\t Framerate: \",capture.get(cv2.CAP_PROP_FPS))\n",
    "numframes = capture.get(7)\n",
    "print (\"\\t Number of Frames: \",numframes)"
   ]
  },
  {
   "cell_type": "code",
   "execution_count": 5,
   "metadata": {},
   "outputs": [],
   "source": [
    "# finds the 9 center pixels and takes the median to find the center pixel\n",
    "def findPixel (img, r): # could potentially expand to look for g/b values too -- beyond our scope\n",
    "      \n",
    "    desiredPixelX = []\n",
    "    desiredPixelY = []\n",
    "    for x in range(img.size[0]):\n",
    "        for y in range(img.size[1]):\n",
    "            pixel = img.getpixel((x, y))\n",
    "            if (pixel[0] == r): # and pixel[2] == g and pixel[3] == b):\n",
    "                desiredPixelX.append(x)\n",
    "                desiredPixelY.append(y)\n",
    "                \n",
    "    if (len(desiredPixelX) != 0):\n",
    "        center_x = statistics.median(desiredPixelX)\n",
    "        center_y = statistics.median(desiredPixelY)\n",
    "        return (center_x, center_y)\n",
    "    else:\n",
    "        return (-1,1)"
   ]
  },
  {
   "cell_type": "code",
   "execution_count": 6,
   "metadata": {},
   "outputs": [
    {
     "data": {
      "image/png": "[encoded data removed]",
      "text/plain": [
       "<matplotlib.figure.Figure at 0x17eebe86710>"
      ]
     },
     "metadata": {
      "needs_background": "light"
     },
     "output_type": "display_data"
    }
   ],
   "source": [
    "# measures the path of the center pixel over time\n",
    "measuredTrack = np.zeros((int(numframes),2)) - 1\n",
    "\n",
    "count = 0 \n",
    "\n",
    "for i in range(int(numframes)):\n",
    "    count += 1\n",
    "    #img2 = capture.read()[1]\n",
    "    img = Image.open(\"Frames/Center/frame%d_center.png\" % i) \n",
    "    pixel = findPixel(img,254) # update this per pixel value\n",
    "    measuredTrack[count-1,:] = pixel\n",
    "    plt.plot(pixel[0],pixel[1],'ob')\n",
    "    \n",
    "    \n",
    "    \n",
    "#print (measuredTrack)\n",
    "np.save(\"tumorTrajectory\", measuredTrack)\n",
    "plt.axis([0,90,0,156])\n",
    "plt.show()"
   ]
  },
  {
   "cell_type": "code",
   "execution_count": 7,
   "metadata": {},
   "outputs": [],
   "source": [
    "Measured = np.load(\"tumorTrajectory.npy\") \n",
    "while True:\n",
    "   if Measured[0,0]==-1.:\n",
    "       Measured=np.delete(Measured,0,0) # deletes first frames if they do not have a center pixel -- this was more important for ball tracking tutorial; not as applicable here\n",
    "   else:\n",
    "       break\n",
    "numMeas = Measured.shape[0]"
   ]
  },
  {
   "cell_type": "code",
   "execution_count": 8,
   "metadata": {},
   "outputs": [
    {
     "name": "stdout",
     "output_type": "stream",
     "text": [
      "[[51.0 60.0]\n",
      " [52.0 67.0]\n",
      " [53.0 73.0]\n",
      " [51.0 77.0]\n",
      " [51.0 81.0]\n",
      " [50.0 83.0]\n",
      " [52.0 84.0]\n",
      " [51.0 86.0]\n",
      " [52.0 87.0]\n",
      " [51.0 87.0]\n",
      " [52.0 86.0]\n",
      " [52.0 87.0]\n",
      " [-- 1.0]\n",
      " [-- 1.0]\n",
      " [51.0 88.0]\n",
      " [52.0 87.0]\n",
      " [-- 1.0]\n",
      " [51.0 86.0]\n",
      " [-- 1.0]\n",
      " [53.0 81.0]\n",
      " [53.0 76.0]\n",
      " [52.0 70.0]\n",
      " [51.0 57.0]\n",
      " [51.0 64.0]\n",
      " [50.0 51.0]\n",
      " [52.0 47.0]\n",
      " [51.0 37.0]\n",
      " [50.0 41.0]\n",
      " [52.0 33.0]\n",
      " [51.0 31.0]\n",
      " [51.0 29.0]\n",
      " [51.0 31.0]\n",
      " [52.0 32.0]\n",
      " [51.0 36.0]\n",
      " [51.0 41.0]\n",
      " [51.0 46.0]\n",
      " [50.0 52.0]\n",
      " [51.0 57.0]\n",
      " [52.0 63.0]\n",
      " [51.0 70.0]\n",
      " [52.0 75.0]\n",
      " [51.0 79.0]\n",
      " [52.0 82.0]\n",
      " [51.0 84.0]\n",
      " [52.0 85.0]\n",
      " [51.0 86.0]\n",
      " [-- 1.0]\n",
      " [-- 1.0]\n",
      " [-- 1.0]\n",
      " [52.0 88.0]\n",
      " [51.0 88.0]\n",
      " [51.0 88.0]\n",
      " [52.0 87.0]\n",
      " [52.0 86.0]\n",
      " [-- 1.0]\n",
      " [53.0 85.0]\n",
      " [-- 1.0]\n",
      " [51.0 79.0]\n",
      " [52.0 74.0]\n",
      " [52.0 68.0]\n",
      " [52.0 61.0]\n",
      " [51.0 55.0]\n",
      " [51.0 49.0]\n",
      " [51.0 43.0]\n",
      " [51.0 39.0]\n",
      " [51.0 35.0]\n",
      " [52.0 32.0]\n",
      " [52.0 31.0]\n",
      " [52.0 31.0]\n",
      " [51.0 30.0]\n",
      " [52.0 34.0]\n",
      " [51.0 38.0]\n",
      " [50.0 43.0]\n",
      " [50.0 49.0]\n",
      " [51.0 54.0]\n",
      " [52.0 61.0]\n",
      " [51.0 67.0]\n",
      " [-- 1.0]\n",
      " [-- 1.0]\n",
      " [-- 1.0]]\n"
     ]
    }
   ],
   "source": [
    "MarkedMeasure = np.ma.masked_less(Measured,0)\n",
    "\n",
    "print (MarkedMeasure)"
   ]
  },
  {
   "cell_type": "code",
   "execution_count": 9,
   "metadata": {},
   "outputs": [],
   "source": [
    "# Check this!\n",
    "Transition_Matrix=[[1,0,1,0],[0,1,0,1],[0,0,1,0],[0,0,0,1]] #x,y,vx,vy -- basically says x/vx are related and y/vy are related\n",
    "Observation_Matrix=[[1,0,0,0],[0,1,0,0]] # however, you are only making direct observations on x & y"
   ]
  },
  {
   "cell_type": "code",
   "execution_count": 10,
   "metadata": {},
   "outputs": [],
   "source": [
    "# Process noise = system changes\n",
    "# Measuring noise = observations\n",
    "\n",
    "xinit = MarkedMeasure[0,0]\n",
    "yinit = MarkedMeasure[0,1]\n",
    "vxinit = MarkedMeasure[1,0] - MarkedMeasure[0,0] # can init to 0 -- btter with this\n",
    "vyinit = MarkedMeasure[1,1] - MarkedMeasure[0,1]\n",
    "initstate = [xinit,yinit,vxinit,vyinit]\n",
    "initcovariance = 1.0e-2 * np.eye(4) # tweak this if first few frames are off -- look at state covaraiance over time\n",
    "transistionCov = 1.0e-3 * np.eye(4) # process noise\n",
    "observationCov = 1.0e-1 * np.eye(2) # measurement noise -- higher is less trust\n",
    "kf = KalmanFilter(transition_matrices = Transition_Matrix,\n",
    "            observation_matrices = Observation_Matrix,\n",
    "            initial_state_mean = initstate,\n",
    "            initial_state_covariance = initcovariance,\n",
    "            transition_covariance = transistionCov,\n",
    "            observation_covariance = observationCov)"
   ]
  },
  {
   "cell_type": "code",
   "execution_count": 11,
   "metadata": {},
   "outputs": [],
   "source": [
    "# These are the two different methods of applying Kalman filters -- read docs\n",
    "# kf.em().smooth() is significantly better for our uses here -- tutorial uses kf.filter\n",
    "(filtered_state_means, filtered_state_covariances) = kf.filter(MarkedMeasure)\n",
    "(smoothed_state_means, smoothed_state_covariances) = kf.em(MarkedMeasure).smooth(MarkedMeasure)"
   ]
  },
  {
   "cell_type": "code",
   "execution_count": 12,
   "metadata": {},
   "outputs": [
    {
     "name": "stderr",
     "output_type": "stream",
     "text": [
      "C:\\Users\\Zach Barrett\\Anaconda3\\lib\\site-packages\\ipykernel_launcher.py:5: MatplotlibDeprecationWarning: pyplot.hold is deprecated.\n",
      "    Future behavior will be consistent with the long-time default:\n",
      "    plot commands add elements without first clearing the\n",
      "    Axes and/or Figure.\n",
      "  \"\"\"\n",
      "C:\\Users\\Zach Barrett\\Anaconda3\\lib\\site-packages\\matplotlib\\__init__.py:805: MatplotlibDeprecationWarning: axes.hold is deprecated. Please remove it from your matplotlibrc and/or style files.\n",
      "  mplDeprecation)\n",
      "C:\\Users\\Zach Barrett\\Anaconda3\\lib\\site-packages\\matplotlib\\rcsetup.py:155: MatplotlibDeprecationWarning: axes.hold is deprecated, will be removed in 3.0\n",
      "  mplDeprecation)\n"
     ]
    },
    {
     "data": {
      "image/png": "[encoded data removed]",
      "text/plain": [
       "<matplotlib.figure.Figure at 0x17eebe86160>"
      ]
     },
     "metadata": {
      "needs_background": "light"
     },
     "output_type": "display_data"
    }
   ],
   "source": [
    "#(filtered_state_means, filtered_state_covariances) = kf.filter(MarkedMeasure)\n",
    "(smoothed_state_means, smoothed_state_covariances) = kf.em(MarkedMeasure).smooth(MarkedMeasure)\n",
    "# comment out one of these above ^^^\n",
    "\n",
    "plt.plot(MarkedMeasure[:,0],MarkedMeasure[:,1],'xr',label='measured')\n",
    "plt.axis([0,90,0,156])\n",
    "plt.hold(True)\n",
    "\n",
    "#plt.plot(filtered_state_means[:,0],filtered_state_means[:,1],'ob',label='kalman output')\n",
    "plt.plot(smoothed_state_means[:,0],smoothed_state_means[:,1],'ob',label='kalman output')\n",
    "# comment out the corresponding filtering method to the above comment out in this cell\n",
    "\n",
    "plt.legend(loc=2)\n",
    "plt.title(\"Kalman Filter\")\n",
    "\n",
    "plt.savefig(\"Kalman Filter.png\")\n",
    "\n",
    "plt.show()"
   ]
  },
  {
   "cell_type": "code",
   "execution_count": 13,
   "metadata": {
    "scrolled": false
   },
   "outputs": [
    {
     "name": "stderr",
     "output_type": "stream",
     "text": [
      "C:\\Users\\Zach Barrett\\Anaconda3\\lib\\site-packages\\ipykernel_launcher.py:5: MatplotlibDeprecationWarning: pyplot.hold is deprecated.\n",
      "    Future behavior will be consistent with the long-time default:\n",
      "    plot commands add elements without first clearing the\n",
      "    Axes and/or Figure.\n",
      "  \"\"\"\n",
      "C:\\Users\\Zach Barrett\\Anaconda3\\lib\\site-packages\\matplotlib\\__init__.py:805: MatplotlibDeprecationWarning: axes.hold is deprecated. Please remove it from your matplotlibrc and/or style files.\n",
      "  mplDeprecation)\n",
      "C:\\Users\\Zach Barrett\\Anaconda3\\lib\\site-packages\\matplotlib\\rcsetup.py:155: MatplotlibDeprecationWarning: axes.hold is deprecated, will be removed in 3.0\n",
      "  mplDeprecation)\n"
     ]
    },
    {
     "data": {
      "image/png": "[encoded data removed]",
      "text/plain": [
       "<matplotlib.figure.Figure at 0x17eec44fcf8>"
      ]
     },
     "metadata": {
      "needs_background": "light"
     },
     "output_type": "display_data"
    }
   ],
   "source": [
    "#(filtered_state_means, filtered_state_covariances) = kf.filter(MarkedMeasure)\n",
    "(smoothed_state_means, smoothed_state_covariances) = kf.em(MarkedMeasure).smooth(MarkedMeasure)\n",
    "# comment out one of these above ^^^\n",
    "\n",
    "plt.plot(MarkedMeasure[:,0],MarkedMeasure[:,1],'xr',label='measured')\n",
    "plt.axis([49,54,0,120]) # 48,55 -- 40,60\n",
    "plt.hold(True)\n",
    "\n",
    "#plt.plot(filtered_state_means[:,0],filtered_state_means[:,1],'ob',label='kalman output')\n",
    "plt.plot(smoothed_state_means[:,0],smoothed_state_means[:,1],'ob',label='kalman output')\n",
    "# comment out the corresponding filtering method to the above comment out in this cell\n",
    "\n",
    "plt.legend(loc=2)\n",
    "plt.title(\"Kalman Filter (Zoomed)\")\n",
    "\n",
    "plt.savefig(\"Kalman Filter (Zoomed).png\")\n",
    "\n",
    "plt.show()"
   ]
  },
  {
   "cell_type": "code",
   "execution_count": 14,
   "metadata": {},
   "outputs": [],
   "source": [
    "#kalmanX = filtered_state_means[:,0]\n",
    "#kalmanY = filtered_state_means[:,1] \n",
    "\n",
    "# comment out above or below based on previous comments\n",
    "\n",
    "kalmanX = smoothed_state_means[:,0]\n",
    "kalmanY = smoothed_state_means[:,1]\n"
   ]
  },
  {
   "cell_type": "code",
   "execution_count": 16,
   "metadata": {},
   "outputs": [],
   "source": [
    "# for plotting kalman output w/o the other center point on its own unique frame\n",
    "for i in range(80):\n",
    "    frame = \"Frames/frame%d.png\" % i\n",
    "    idx = frame.index('/')\n",
    "    frame_path = frame[:idx] + \"/Kalman\" + frame[idx:]\n",
    "    \n",
    "\n",
    "    img = Image.open(frame)\n",
    "    pixelMap = img.load()\n",
    "    pixelMap[kalmanX[i]+1, kalmanY[i]] = (0, 254, 254, 255)\n",
    "    pixelMap[kalmanX[i]-1, kalmanY[i]] = (0, 254, 254, 255)\n",
    "    pixelMap[kalmanX[i]+1, kalmanY[i]+1] = (0, 254, 254, 255)\n",
    "    pixelMap[kalmanX[i]-1, kalmanY[i]-1] = (0, 254, 254, 255)\n",
    "    pixelMap[kalmanX[i], kalmanY[i]] = (0, 254, 254, 255)\n",
    "    pixelMap[kalmanX[i], kalmanY[i]+1] = (0, 254, 254, 255)\n",
    "    pixelMap[kalmanX[i], kalmanY[i]-1] = (0, 254, 254, 255)\n",
    "    pixelMap[kalmanX[i]-1, kalmanY[i]+1] = (0, 254, 254, 255)\n",
    "    pixelMap[kalmanX[i]+1, kalmanY[i]-1] = (0, 254, 254, 255)\n",
    "    py.imsave(frame_path, img)\n",
    "    "
   ]
  },
  {
   "cell_type": "code",
   "execution_count": 31,
   "metadata": {},
   "outputs": [],
   "source": [
    "# for plotting on the same frame as measured center point -- note: overwrites Center\n",
    "\n",
    "for i in range(80):\n",
    "    frame = \"Frames/Center/frame%d_center.png\" % i\n",
    "\n",
    "    img = Image.open(frame)\n",
    "    pixelMap = img.load()\n",
    "    pixelMap[kalmanX[i]+1, kalmanY[i]] = (0, 254, 254, 255)\n",
    "    pixelMap[kalmanX[i]-1, kalmanY[i]] = (0, 254, 254, 255)\n",
    "    pixelMap[kalmanX[i]+1, kalmanY[i]+1] = (0, 254, 254, 255)\n",
    "    pixelMap[kalmanX[i]-1, kalmanY[i]-1] = (0, 254, 254, 255)\n",
    "    pixelMap[kalmanX[i], kalmanY[i]] = (0, 254, 254, 255)\n",
    "    pixelMap[kalmanX[i], kalmanY[i]+1] = (0, 254, 254, 255)\n",
    "    pixelMap[kalmanX[i], kalmanY[i]-1] = (0, 254, 254, 255)\n",
    "    pixelMap[kalmanX[i]-1, kalmanY[i]+1] = (0, 254, 254, 255)\n",
    "    pixelMap[kalmanX[i]+1, kalmanY[i]-1] = (0, 254, 254, 255)\n",
    "    \n",
    "    py.imsave(frame, img)"
   ]
  },
  {
   "cell_type": "code",
   "execution_count": null,
   "metadata": {},
   "outputs": [],
   "source": []
  }
 ],
 "metadata": {
  "kernelspec": {
   "display_name": "Python 3",
   "language": "python",
   "name": "python3"
  },
  "language_info": {
   "codemirror_mode": {
    "name": "ipython",
    "version": 3
   },
   "file_extension": ".py",
   "mimetype": "text/x-python",
   "name": "python",
   "nbconvert_exporter": "python",
   "pygments_lexer": "ipython3",
   "version": "3.6.4"
  }
 },
 "nbformat": 4,
 "nbformat_minor": 2
}
